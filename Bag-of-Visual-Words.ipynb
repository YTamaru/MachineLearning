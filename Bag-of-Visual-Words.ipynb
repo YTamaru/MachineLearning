{
 "cells": [
  {
   "cell_type": "markdown",
   "metadata": {},
   "source": [
    "# Bag of Visual Words\n",
    "algorithm\n",
    "1. 全画像をCNN(VGG16)に入力し，局所特徴量(include_top=False)の抽出\n",
    "2. 全ての局所特徴量をk-meansによってカテゴライズ，ヒストグラムのビンとする\n",
    "3. ビンを基に，全画像に対してBag of Visual Wordsのヒストグラムを作り，画像の特徴ベクトルを作成"
   ]
  },
  {
   "cell_type": "code",
   "execution_count": null,
   "metadata": {},
   "outputs": [],
   "source": [
    "from keras.applications.vgg16 import VGG16, preprocess_input, decode_predictions\n",
    "from keras.layers import Dense, Dropout, Activation, Flatten\n",
    "from keras.preprocessing import image\n",
    "from sklearn.cluster import KMeans\n",
    "import numpy as np\n",
    "import pandas as pd\n",
    "import sys\n",
    "import cv2\n",
    "import os\n",
    "import shutil\n",
    "import networkx as nx\n",
    "import matplotlib.pyplot as plt "
   ]
  },
  {
   "cell_type": "code",
   "execution_count": null,
   "metadata": {},
   "outputs": [],
   "source": [
    "DATA_DIR = '../data/'\n",
    "VIDEOS_DIR = '../data/video/'                        # The place to put the video\n",
    "TARGET_IMAGES_DIR = '../data/images/target/'         # The place to put the images which you want to execute clustering\n",
    "CLUSTERED_IMAGES_DIR = '../data/images/cycle/'   # The place to put the images which are clustered\n",
    "IMAGE_LABEL_FILE ='image_label_cycle.csv'                  # Image name and its label"
   ]
  },
  {
   "cell_type": "code",
   "execution_count": null,
   "metadata": {},
   "outputs": [],
   "source": [
    "DG = nx.DiGraph()"
   ]
  },
  {
   "cell_type": "code",
   "execution_count": null,
   "metadata": {},
   "outputs": [],
   "source": [
    "clusters=50 #k-means\n",
    "col=7*7 # image\n",
    "channels=512 #image\n",
    "k_ctr=4 #k-NN"
   ]
  },
  {
   "cell_type": "code",
   "execution_count": null,
   "metadata": {},
   "outputs": [],
   "source": [
    "def __feature_extraction(model, img_path):\n",
    "    img = image.load_img(img_path, target_size=(224, 224))  # resize\n",
    "    x = image.img_to_array(img)\n",
    "    x = np.expand_dims(x, axis=0)  # add a dimention of samples\n",
    "    x = preprocess_input(x)  # RGB 2 BGR and zero-centering by mean pixel based on the position of channels\n",
    "\n",
    "    feat = model.predict(x)  # Get image features ->7x7x512\n",
    "\n",
    "    return feat"
   ]
  },
  {
   "cell_type": "code",
   "execution_count": null,
   "metadata": {},
   "outputs": [],
   "source": [
    "print('Label images...')\n",
    "# Load a model\n",
    "model = VGG16(weights='imagenet', include_top=False)\n",
    "# Get images\n",
    "images = [f for f in os.listdir(TARGET_IMAGES_DIR) if f[-4:] in ['.png', '.jpg']]\n",
    "assert(len(images)>0)\n",
    "\n",
    "X = []\n",
    "X_vector = []\n",
    "for i in range(len(images)):\n",
    "    # Extract image features\n",
    "    feat = __feature_extraction(model, TARGET_IMAGES_DIR+images[i])\n",
    "    X.append(feat)\n",
    "# Clustering images by k-means++\n",
    "X = np.array(X)\n",
    "X = X.reshape([num_img*col, channels])\n",
    "kmeans = KMeans(n_clusters=clusters, random_state=0).fit(X)\n",
    "centr = np.array(kmeans.cluster_centers_)"
   ]
  },
  {
   "cell_type": "markdown",
   "metadata": {},
   "source": [
    "各画像の特徴ベクトルの作成 (Bag of Visual Words)"
   ]
  },
  {
   "cell_type": "code",
   "execution_count": null,
   "metadata": {},
   "outputs": [],
   "source": [
    "for i in range(num_img-1):\n",
    "    X_hist = [0]*col\n",
    "    for j in range(col-1):\n",
    "        dist = [0]*col\n",
    "        for k in range(clusters-1):\n",
    "            diff = X[i*col+j,] - centr[k,]\n",
    "            dist[k] = np.linalg.norm(diff)\n",
    "        X_hist[dist.index(min(dist))] += 1\n",
    "    X_vector.append(X_hist)\n",
    "X_vector = np.array(X_vector) #feature vector\n",
    "print(np.shape(X_vector)) #(284,49)? (285,49)\n",
    "DG.add_nodes_from(range(1, len(X_vector))) #make visual k-NN Graph"
   ]
  },
  {
   "cell_type": "markdown",
   "metadata": {},
   "source": [
    "Bag of Visual Wordsのヒストグラムの画像作成"
   ]
  },
  {
   "cell_type": "code",
   "execution_count": null,
   "metadata": {},
   "outputs": [],
   "source": [
    "df = pd.DataFrame(X_vector)\n",
    "df = df.transpose()\n",
    "for i in range(1, len(X_vector)):\n",
    "    plt.figure()\n",
    "    df[i-1].plot.bar()\n",
    "    plt.savefig(\"../data/hist/hist\"+str(i)+\".jpg\")\n",
    "    plt.close(\"all\")"
   ]
  }
 ],
 "metadata": {
  "kernelspec": {
   "display_name": "Python 3",
   "language": "python",
   "name": "python3"
  },
  "language_info": {
   "codemirror_mode": {
    "name": "ipython",
    "version": 3
   },
   "file_extension": ".py",
   "mimetype": "text/x-python",
   "name": "python",
   "nbconvert_exporter": "python",
   "pygments_lexer": "ipython3",
   "version": "3.7.2"
  }
 },
 "nbformat": 4,
 "nbformat_minor": 2
}
