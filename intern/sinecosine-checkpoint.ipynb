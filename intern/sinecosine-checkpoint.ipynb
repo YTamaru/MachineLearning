{
 "cells": [
  {
   "cell_type": "code",
   "execution_count": null,
   "metadata": {
    "collapsed": true
   },
   "outputs": [],
   "source": [
    "%matplotlib inline\n",
    "\n",
    "#２変量 入力\n",
    "#\n",
    "#sin曲線 の 100時点 の 値\n",
    "#cos曲線 の 100時点 の 値\n",
    "#を 入力値 として 受け取り、\n",
    "#\n",
    "#１期先 の １変量 出力\n",
    "#\n",
    "#101時点目 の (sin + cos) の 値\n",
    "#を 出力 する\n",
    "#\n",
    "#２変量 bi-LSTM 回帰予測モデル（１時点先を予測）\n",
    "#を 学習させて みました。"
   ]
  },
  {
   "cell_type": "code",
   "execution_count": null,
   "metadata": {
    "collapsed": true
   },
   "outputs": [],
   "source": [
    "import pandas as pd\n",
    "import numpy as np\n",
    "import math\n",
    "import random\n",
    "\n",
    "random.seed(123)\n",
    "# 乱数の係数\n",
    "random_factor = 0.05\n",
    "# サイクルあたりのステップ数\n",
    "steps_per_cycle = 80\n",
    "# 生成するサイクル数\n",
    "number_of_cycles = 50\n",
    "\n",
    "df = pd.DataFrame(np.arange(steps_per_cycle * number_of_cycles + 1), columns=[\"t\"])\n",
    "df[\"sin_t\"] = df.t.apply(lambda x: math.sin(x * (2 * math.pi / steps_per_cycle)+ random.uniform(-1.0, +1.0) * random_factor))\n",
    "df[[\"sin_t\"]].head(steps_per_cycle * 2).plot()"
   ]
  },
  {
   "cell_type": "code",
   "execution_count": null,
   "metadata": {
    "collapsed": true
   },
   "outputs": [],
   "source": [
    "from numpy.random import *\n",
    "df[\"cos_t\"] = df.t.apply(lambda x: math.cos(x * (2 * math.pi / steps_per_cycle)+ uniform(-1.0, +1.0) * random_factor))\n",
    "df[[\"cos_t\"]].head(steps_per_cycle * 2).plot()"
   ]
  },
  {
   "cell_type": "code",
   "execution_count": null,
   "metadata": {
    "collapsed": true
   },
   "outputs": [],
   "source": [
    "df[\"sin+cos\"] = df[\"sin_t\"] + df[\"cos_t\"]\n",
    "df[[\"sin+cos\"]].head(steps_per_cycle * 2).plot()"
   ]
  },
  {
   "cell_type": "code",
   "execution_count": null,
   "metadata": {
    "collapsed": true
   },
   "outputs": [],
   "source": [
    "def _load_data(data, n_prev = 100):  \n",
    "    \"\"\"\n",
    "    data should be pd.DataFrame()\n",
    "    \"\"\"\n",
    "\n",
    "    docX, docY = [], []\n",
    "    for i in range(len(data)-n_prev):\n",
    "        docX.append(data.iloc[i:i+n_prev].as_matrix())\n",
    "        docY.append(data.iloc[i+n_prev].as_matrix())\n",
    "    alsX = np.array(docX)\n",
    "    alsY = np.array(docY)\n",
    "\n",
    "    return alsX, alsY\n",
    "\n",
    "def train_test_split(df, test_size=0.1, n_prev = 100):  \n",
    "    \"\"\"\n",
    "    This just splits data to training and testing parts\n",
    "    \"\"\"\n",
    "    ntrn = round(len(df) * (1 - test_size))\n",
    "    ntrn = int(ntrn)\n",
    "    X_train, y_train = _load_data(df.iloc[0:ntrn], n_prev)\n",
    "    X_test, y_test = _load_data(df.iloc[ntrn:], n_prev)\n",
    "\n",
    "    return (X_train, y_train), (X_test, y_test)"
   ]
  },
  {
   "cell_type": "code",
   "execution_count": null,
   "metadata": {
    "collapsed": true
   },
   "outputs": [],
   "source": [
    "(X_sin_train, _), (X_sin_test, _) = train_test_split(df[[\"sin_t\"]], n_prev =100)  \n",
    "(X_cos_train, _), (X_cos_test, _) = train_test_split(df[[\"cos_t\"]], n_prev =100) \n",
    "(_, y_sincos_train), (_, y_sincos_test) = train_test_split(df[[\"sin+cos\"]], n_prev =100)"
   ]
  },
  {
   "cell_type": "code",
   "execution_count": null,
   "metadata": {
    "collapsed": true
   },
   "outputs": [],
   "source": [
    "X_sin_train.shape"
   ]
  },
  {
   "cell_type": "code",
   "execution_count": null,
   "metadata": {
    "collapsed": true
   },
   "outputs": [],
   "source": [
    "test_size=0.1\n",
    "steps_per_cycle * number_of_cycles * test_size"
   ]
  },
  {
   "cell_type": "code",
   "execution_count": null,
   "metadata": {
    "collapsed": true
   },
   "outputs": [],
   "source": [
    "steps_per_cycle * number_of_cycles * (1 - test_size)"
   ]
  },
  {
   "cell_type": "code",
   "execution_count": null,
   "metadata": {
    "collapsed": true
   },
   "outputs": [],
   "source": [
    "X_sin_test.shape"
   ]
  },
  {
   "cell_type": "code",
   "execution_count": null,
   "metadata": {
    "collapsed": true
   },
   "outputs": [],
   "source": [
    "data = []\n",
    "\n",
    "for i in range(X_sin_train.shape[0]):\n",
    "    data.append([[x_sin_elem, x_cos_elem] for x_sin_elem, x_cos_elem\n",
    "                                 in zip(X_sin_train[i], X_cos_train[i])])"
   ]
  },
  {
   "cell_type": "code",
   "execution_count": null,
   "metadata": {
    "collapsed": true
   },
   "outputs": [],
   "source": [
    "data = np.array(data)\n",
    "data.shape"
   ]
  },
  {
   "cell_type": "code",
   "execution_count": null,
   "metadata": {
    "collapsed": true
   },
   "outputs": [],
   "source": [
    "data = data.reshape(3501, 100, 2)\n",
    "data.shape"
   ]
  },
  {
   "cell_type": "code",
   "execution_count": null,
   "metadata": {
    "collapsed": true
   },
   "outputs": [],
   "source": [
    "# 各時点 の (sin, cos）ペア が 格納されていること を 確認\n",
    "print(data[0][0])"
   ]
  },
  {
   "cell_type": "code",
   "execution_count": null,
   "metadata": {
    "collapsed": true
   },
   "outputs": [],
   "source": [
    "print(data[0][0])\n",
    "print(X_sin_train[0][0], X_cos_train[0][0])"
   ]
  },
  {
   "cell_type": "code",
   "execution_count": null,
   "metadata": {
    "collapsed": true
   },
   "outputs": [],
   "source": [
    "print(data[3500][99])\n",
    "print(X_sin_train[3500][99], X_cos_train[3500][99])"
   ]
  },
  {
   "cell_type": "code",
   "execution_count": null,
   "metadata": {
    "collapsed": true
   },
   "outputs": [],
   "source": [
    "# 各時点 の (sin, cos) の 組 が 出来ている"
   ]
  },
  {
   "cell_type": "code",
   "execution_count": null,
   "metadata": {
    "collapsed": true
   },
   "outputs": [],
   "source": [
    "# 検証（テスト）用 の 入力層Inputデータセット を 同様 に 作成\n",
    "test_data = []\n",
    "for i in range(X_sin_test.shape[0]):\n",
    "    test_data.append([[x_sin_elem, x_cos_elem] for x_sin_elem, x_cos_elem\n",
    "                                 in zip(X_sin_test[i], X_cos_test[i])])"
   ]
  },
  {
   "cell_type": "code",
   "execution_count": null,
   "metadata": {
    "collapsed": true
   },
   "outputs": [],
   "source": [
    "test_data_array = np.array(test_data)\n",
    "test_data_array.shape"
   ]
  },
  {
   "cell_type": "code",
   "execution_count": null,
   "metadata": {
    "collapsed": true
   },
   "outputs": [],
   "source": [
    "test_data_array = test_data_array.reshape(300, 100, 2)\n",
    "test_data_array.shape"
   ]
  },
  {
   "cell_type": "code",
   "execution_count": null,
   "metadata": {
    "collapsed": true
   },
   "outputs": [],
   "source": [
    "y_sincos_train.shape"
   ]
  },
  {
   "cell_type": "code",
   "execution_count": null,
   "metadata": {
    "collapsed": true
   },
   "outputs": [],
   "source": [
    "# 検証（テスト）用データセット の 正解値\n",
    "# 検証用データ を 用いた 予測値 と 実測値（正解値） を\n",
    "# グラフ に 重ねて誤 差乖離 を 見る際 に 用いる。\n",
    "\n",
    "y_sincos_train.reshape(3501)\n",
    "y_sincos_train.shape"
   ]
  },
  {
   "cell_type": "code",
   "execution_count": null,
   "metadata": {
    "collapsed": true
   },
   "outputs": [],
   "source": [
    "y_sincos_train[0:10]"
   ]
  },
  {
   "cell_type": "code",
   "execution_count": null,
   "metadata": {
    "collapsed": true
   },
   "outputs": [],
   "source": [
    "# （参考）http://qiita.com/HirofumiYashima/items/3767a321b4cb544a5581\n",
    "\n",
    "from keras.models import Model\n",
    "from keras.layers.core import Dense, Activation  \n",
    "from keras.layers import Input,Dense, Dropout, Embedding, LSTM, Bidirectional\n",
    "\n",
    "# 2変量モデル だから、batch_shape=(None, 100, 2)\n",
    "input_layer = Input(batch_shape=(None, 100, 2))\n",
    "# ↓単変量モデルの場合 batch_input_shape=(None, 100, 1)\n",
    "# input_layer = Input(batch_shape=(None, 100, 1))\n",
    "\n",
    "bilstm_output_layer = Bidirectional(LSTM(300))(input_layer)\n",
    "dense_output_layer = Dense(1)(bilstm_output_layer)\n",
    "prediction_layer = Activation(\"linear\")(dense_output_layer)\n",
    "\n",
    "model = Model(input=input_layer, output=prediction_layer)"
   ]
  },
  {
   "cell_type": "code",
   "execution_count": null,
   "metadata": {
    "collapsed": true
   },
   "outputs": [],
   "source": [
    "# 入力データの次元より も bi-LSTM層 の 次元 を 間違えて 大きくしてしまった。\n",
    "\n",
    "model.summary()"
   ]
  },
  {
   "cell_type": "code",
   "execution_count": null,
   "metadata": {
    "collapsed": true
   },
   "outputs": [],
   "source": [
    "model.compile(loss=\"mean_squared_error\",  optimizer=\"adam\")"
   ]
  },
  {
   "cell_type": "code",
   "execution_count": null,
   "metadata": {
    "collapsed": true
   },
   "outputs": [],
   "source": [
    "from keras.callbacks import EarlyStopping\n",
    "early_stopping = EarlyStopping(monitor='val_loss', patience=0)\n",
    "\n",
    "model_history_log = model.fit(data, y_sincos_train, \n",
    "                              batch_size=600, \n",
    "                              nb_epoch=50, \n",
    "                              validation_split=0.05,\n",
    "                              callbacks=[early_stopping])"
   ]
  },
  {
   "cell_type": "code",
   "execution_count": null,
   "metadata": {
    "collapsed": true
   },
   "outputs": [],
   "source": [
    "from matplotlib import pyplot as plt\n",
    "import seaborn as sns\n",
    "\n",
    "loss = model_history_log.history['loss']\n",
    "val_loss = model_history_log.history['val_loss']\n",
    "\n",
    "nb_epoch = len(loss)\n",
    "\n",
    "plt.plot(range(nb_epoch), loss, marker='.', label='loss')\n",
    "plt.plot(range(nb_epoch), val_loss, marker='.', label='val_loss')\n",
    "\n",
    "plt.legend(loc='best', fontsize=10)\n",
    "plt.grid()\n",
    "\n",
    "plt.xlabel('epoch')\n",
    "plt.ylabel('loss')\n",
    "plt.show()"
   ]
  },
  {
   "cell_type": "code",
   "execution_count": null,
   "metadata": {
    "collapsed": true
   },
   "outputs": [],
   "source": [
    "predicted = model.predict(test_data_array)  \n",
    "len(predicted)"
   ]
  },
  {
   "cell_type": "code",
   "execution_count": null,
   "metadata": {
    "collapsed": true
   },
   "outputs": [],
   "source": [
    "dataf =  pd.DataFrame(predicted)\n",
    "dataf.columns = [\"predicted\"]\n",
    "dataf[\"true_value(observed_value)\"] = y_sincos_test\n",
    "dataf.plot()"
   ]
  },
  {
   "cell_type": "code",
   "execution_count": null,
   "metadata": {
    "collapsed": true
   },
   "outputs": [],
   "source": [
    "# 予測誤差 を 算出\n",
    "dataf[\"difference\"] = dataf[\"predicted\"] - dataf[\"true_value(observed_value)\"] \n",
    "dataf[\"difference\"].plot()"
   ]
  },
  {
   "cell_type": "code",
   "execution_count": null,
   "metadata": {
    "collapsed": true
   },
   "outputs": [],
   "source": [
    "dataf.plot()"
   ]
  },
  {
   "cell_type": "code",
   "execution_count": null,
   "metadata": {
    "collapsed": true
   },
   "outputs": [],
   "source": [
    "# bi-LSTM層 の 次元 を 入力データの次元より 小さく する。\n",
    "\n",
    "from keras.models import Model\n",
    "from keras.layers.core import Dense, Activation  \n",
    "from keras.layers import Input,Dense, Dropout, Embedding, LSTM, Bidirectional\n",
    "\n",
    "# 2変量モデル だから、batch_shape=(None, 100, 2)\n",
    "input_layer = Input(batch_shape=(None, 100, 2))\n",
    "\n",
    "bilstm_output_layer = Bidirectional(LSTM(50))(input_layer)\n",
    "dense_output_layer = Dense(1)(bilstm_output_layer)\n",
    "prediction_layer = Activation(\"linear\")(dense_output_layer)\n",
    "\n",
    "model_2 = Model(input=input_layer, output=prediction_layer)"
   ]
  },
  {
   "cell_type": "code",
   "execution_count": null,
   "metadata": {
    "collapsed": true
   },
   "outputs": [],
   "source": [
    "model_2.summary()"
   ]
  },
  {
   "cell_type": "code",
   "execution_count": null,
   "metadata": {
    "collapsed": true
   },
   "outputs": [],
   "source": [
    "model_2.compile(loss=\"mean_squared_error\",  optimizer=\"adam\")"
   ]
  },
  {
   "cell_type": "code",
   "execution_count": null,
   "metadata": {
    "collapsed": true
   },
   "outputs": [],
   "source": [
    "from keras.callbacks import EarlyStopping\n",
    "early_stopping = EarlyStopping(monitor='val_loss', patience=0)\n",
    "\n",
    "model_2_history_log = model_2.fit(data, y_sincos_train, \n",
    "                                  batch_size=600, \n",
    "                                  nb_epoch=50, \n",
    "                                  validation_split=0.05,\n",
    "                                  callbacks=[early_stopping]) "
   ]
  },
  {
   "cell_type": "code",
   "execution_count": null,
   "metadata": {
    "collapsed": true
   },
   "outputs": [],
   "source": [
    "from matplotlib import pyplot as plt\n",
    "import seaborn as sns\n",
    "\n",
    "loss = model_2_history_log.history['loss']\n",
    "val_loss = model_2_history_log.history['val_loss']\n",
    "\n",
    "nb_epoch = len(loss)\n",
    "\n",
    "plt.plot(range(nb_epoch), loss, marker='.', label='loss')\n",
    "plt.plot(range(nb_epoch), val_loss, marker='.', label='val_loss')\n",
    "\n",
    "plt.legend(loc='best', fontsize=10)\n",
    "plt.grid()\n",
    "\n",
    "plt.xlabel('epoch')\n",
    "plt.ylabel('loss')\n",
    "plt.show()"
   ]
  },
  {
   "cell_type": "code",
   "execution_count": null,
   "metadata": {
    "collapsed": true
   },
   "outputs": [],
   "source": [
    "predicted_2 = model_2.predict(test_data_array)  \n",
    "len(predicted_2)"
   ]
  },
  {
   "cell_type": "code",
   "execution_count": null,
   "metadata": {
    "collapsed": true
   },
   "outputs": [],
   "source": [
    "dataf =  pd.DataFrame(predicted_2)\n",
    "dataf.columns = [\"predicted_2\"]\n",
    "dataf[\"true_value(observed_value)\"] = y_sincos_test\n",
    "dataf.plot()"
   ]
  },
  {
   "cell_type": "code",
   "execution_count": null,
   "metadata": {
    "collapsed": true
   },
   "outputs": [],
   "source": [
    "# 予測誤差 を 算出\n",
    "dataf[\"difference_2\"] = dataf[\"predicted_2\"] - dataf[\"true_value(observed_value)\"] \n",
    "dataf[\"difference_2\"].plot()"
   ]
  },
  {
   "cell_type": "code",
   "execution_count": null,
   "metadata": {
    "collapsed": true
   },
   "outputs": [],
   "source": [
    "dataf.plot()"
   ]
  },
  {
   "cell_type": "code",
   "execution_count": null,
   "metadata": {
    "collapsed": true
   },
   "outputs": [],
   "source": [
    "# 誤差が大きくなった。"
   ]
  },
  {
   "cell_type": "code",
   "execution_count": null,
   "metadata": {
    "collapsed": true
   },
   "outputs": [],
   "source": [
    "# bi-LSTM層 の 次元 を 入力データの次元より 最初より 大きく する。\n",
    "\n",
    "from keras.models import Model\n",
    "from keras.layers.core import Dense, Activation  \n",
    "from keras.layers import Input,Dense, Dropout, Embedding, LSTM, Bidirectional\n",
    "\n",
    "# 2変量モデル だから、batch_shape=(None, 100, 2)\n",
    "input_layer = Input(batch_shape=(None, 100, 2))\n",
    "\n",
    "# 800次元にする\n",
    "bilstm_output_layer = Bidirectional(LSTM(800))(input_layer)\n",
    "dense_output_layer = Dense(1)(bilstm_output_layer)\n",
    "prediction_layer = Activation(\"linear\")(dense_output_layer)\n",
    "\n",
    "model_3 = Model(input=input_layer, output=prediction_layer)"
   ]
  },
  {
   "cell_type": "code",
   "execution_count": null,
   "metadata": {
    "collapsed": true
   },
   "outputs": [],
   "source": [
    "model_3.summary()"
   ]
  },
  {
   "cell_type": "code",
   "execution_count": null,
   "metadata": {
    "collapsed": true
   },
   "outputs": [],
   "source": [
    "model_3.compile(loss=\"mean_squared_error\",  optimizer=\"adam\")"
   ]
  },
  {
   "cell_type": "code",
   "execution_count": null,
   "metadata": {
    "collapsed": true
   },
   "outputs": [],
   "source": [
    "from keras.callbacks import EarlyStopping\n",
    "early_stopping = EarlyStopping(monitor='val_loss', patience=0)\n",
    "\n",
    "model_3_history_log = model_3.fit(data, y_sincos_train, \n",
    "                                  batch_size=600, \n",
    "                                  nb_epoch=50, \n",
    "                                  validation_split=0.05,\n",
    "                                  callbacks=[early_stopping])"
   ]
  },
  {
   "cell_type": "code",
   "execution_count": null,
   "metadata": {
    "collapsed": true
   },
   "outputs": [],
   "source": [
    "from matplotlib import pyplot as plt\n",
    "import seaborn as sns\n",
    "\n",
    "loss = model_3_history_log.history['loss']\n",
    "val_loss = model_3_history_log.history['val_loss']\n",
    "\n",
    "nb_epoch = len(loss)\n",
    "\n",
    "plt.plot(range(nb_epoch), loss, marker='.', label='loss')\n",
    "plt.plot(range(nb_epoch), val_loss, marker='.', label='val_loss')\n",
    "\n",
    "plt.legend(loc='best', fontsize=10)\n",
    "plt.grid()\n",
    "\n",
    "plt.xlabel('epoch')\n",
    "plt.ylabel('loss')\n",
    "plt.show()"
   ]
  },
  {
   "cell_type": "code",
   "execution_count": null,
   "metadata": {
    "collapsed": true
   },
   "outputs": [],
   "source": [
    "predicted_3 = model_3.predict(test_data_array)  \n",
    "len(predicted_3)"
   ]
  },
  {
   "cell_type": "code",
   "execution_count": null,
   "metadata": {
    "collapsed": true
   },
   "outputs": [],
   "source": [
    "dataf =  pd.DataFrame(predicted_3)\n",
    "dataf.columns = [\"predicted_3\"]\n",
    "dataf[\"true_value(observed_value)\"] = y_sincos_test\n",
    "dataf.plot()"
   ]
  },
  {
   "cell_type": "code",
   "execution_count": null,
   "metadata": {
    "collapsed": true
   },
   "outputs": [],
   "source": [
    "# 予測誤差 を 算出\n",
    "dataf[\"difference_3\"] = dataf[\"predicted_3\"] - dataf[\"true_value(observed_value)\"] \n",
    "dataf[\"difference_3\"].plot()"
   ]
  },
  {
   "cell_type": "code",
   "execution_count": null,
   "metadata": {
    "collapsed": true
   },
   "outputs": [],
   "source": [
    "dataf.plot()"
   ]
  },
  {
   "cell_type": "code",
   "execution_count": null,
   "metadata": {
    "collapsed": true
   },
   "outputs": [],
   "source": [
    "dataf.describe()"
   ]
  },
  {
   "cell_type": "code",
   "execution_count": null,
   "metadata": {
    "collapsed": true
   },
   "outputs": [],
   "source": [
    "dataf.head()"
   ]
  },
  {
   "cell_type": "code",
   "execution_count": null,
   "metadata": {
    "collapsed": true
   },
   "outputs": [],
   "source": [
    "dataf.tail()"
   ]
  }
 ],
 "metadata": {
  "kernelspec": {
   "display_name": "Python 3",
   "language": "python",
   "name": "python3"
  },
  "language_info": {
   "codemirror_mode": {
    "name": "ipython",
    "version": 3
   },
   "file_extension": ".py",
   "mimetype": "text/x-python",
   "name": "python",
   "nbconvert_exporter": "python",
   "pygments_lexer": "ipython3",
   "version": "3.6.0"
  }
 },
 "nbformat": 4,
 "nbformat_minor": 2
}
