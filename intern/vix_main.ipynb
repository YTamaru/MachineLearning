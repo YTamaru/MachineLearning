{
 "cells": [
  {
   "cell_type": "code",
   "execution_count": 1,
   "metadata": {
    "collapsed": false
   },
   "outputs": [
    {
     "name": "stderr",
     "output_type": "stream",
     "text": [
      "Using TensorFlow backend.\n",
      "ERROR:root:Internal Python error in the inspect module.\n",
      "Below is the traceback from this internal error.\n",
      "\n"
     ]
    },
    {
     "name": "stdout",
     "output_type": "stream",
     "text": [
      "Traceback (most recent call last):\n",
      "  File \"C:\\Anaconda3\\lib\\site-packages\\IPython\\core\\interactiveshell.py\", line 2881, in run_code\n",
      "    exec(code_obj, self.user_global_ns, self.user_ns)\n",
      "  File \"<ipython-input-1-a69b8218c771>\", line 1, in <module>\n",
      "    import vix_util as util\n",
      "  File \"c:\\Users\\YUKI\\Desktop\\StockPricePredict-master\\vix_util.py\", line 5, in <module>\n",
      "    from keras.models import Sequential\n",
      "  File \"C:\\Anaconda3\\lib\\site-packages\\keras\\__init__.py\", line 3, in <module>\n",
      "    from . import activations\n",
      "  File \"C:\\Anaconda3\\lib\\site-packages\\keras\\activations.py\", line 3, in <module>\n",
      "    from . import backend as K\n",
      "  File \"C:\\Anaconda3\\lib\\site-packages\\keras\\backend\\__init__.py\", line 73, in <module>\n",
      "    from .tensorflow_backend import *\n",
      "  File \"C:\\Anaconda3\\lib\\site-packages\\keras\\backend\\tensorflow_backend.py\", line 1, in <module>\n",
      "    import tensorflow as tf\n",
      "ModuleNotFoundError: No module named 'tensorflow'\n",
      "\n",
      "During handling of the above exception, another exception occurred:\n",
      "\n",
      "Traceback (most recent call last):\n",
      "  File \"C:\\Anaconda3\\lib\\site-packages\\IPython\\core\\interactiveshell.py\", line 1821, in showtraceback\n",
      "    stb = value._render_traceback_()\n",
      "AttributeError: 'ModuleNotFoundError' object has no attribute '_render_traceback_'\n",
      "\n",
      "During handling of the above exception, another exception occurred:\n",
      "\n",
      "Traceback (most recent call last):\n",
      "  File \"C:\\Anaconda3\\lib\\site-packages\\IPython\\core\\ultratb.py\", line 1132, in get_records\n",
      "    return _fixed_getinnerframes(etb, number_of_lines_of_context, tb_offset)\n",
      "  File \"C:\\Anaconda3\\lib\\site-packages\\IPython\\core\\ultratb.py\", line 313, in wrapped\n",
      "    return f(*args, **kwargs)\n",
      "  File \"C:\\Anaconda3\\lib\\site-packages\\IPython\\core\\ultratb.py\", line 358, in _fixed_getinnerframes\n",
      "    records = fix_frame_records_filenames(inspect.getinnerframes(etb, context))\n",
      "  File \"C:\\Anaconda3\\lib\\inspect.py\", line 1454, in getinnerframes\n",
      "    frameinfo = (tb.tb_frame,) + getframeinfo(tb, context)\n",
      "  File \"C:\\Anaconda3\\lib\\inspect.py\", line 1411, in getframeinfo\n",
      "    filename = getsourcefile(frame) or getfile(frame)\n",
      "  File \"C:\\Anaconda3\\lib\\inspect.py\", line 666, in getsourcefile\n",
      "    if getattr(getmodule(object, filename), '__loader__', None) is not None:\n",
      "  File \"C:\\Anaconda3\\lib\\inspect.py\", line 703, in getmodule\n",
      "    if ismodule(module) and hasattr(module, '__file__'):\n",
      "  File \"C:\\Anaconda3\\lib\\site-packages\\py\\_apipkg.py\", line 171, in __getattribute__\n",
      "    return getattr(getmod(), name)\n",
      "  File \"C:\\Anaconda3\\lib\\site-packages\\py\\_apipkg.py\", line 155, in getmod\n",
      "    x = importobj(modpath, None)\n",
      "  File \"C:\\Anaconda3\\lib\\site-packages\\py\\_apipkg.py\", line 48, in importobj\n",
      "    module = __import__(modpath, None, None, ['__doc__'])\n",
      "  File \"C:\\Anaconda3\\lib\\site-packages\\pytest.py\", line 27, in <module>\n",
      "    _preloadplugins() # to populate pytest.* namespace so help(pytest) works\n",
      "  File \"C:\\Anaconda3\\lib\\site-packages\\_pytest\\config.py\", line 109, in _preloadplugins\n",
      "    _preinit.append(get_config())\n",
      "  File \"C:\\Anaconda3\\lib\\site-packages\\_pytest\\config.py\", line 118, in get_config\n",
      "    pluginmanager.import_plugin(spec)\n",
      "  File \"C:\\Anaconda3\\lib\\site-packages\\_pytest\\config.py\", line 431, in import_plugin\n",
      "    __import__(importspec)\n",
      "  File \"C:\\Anaconda3\\lib\\site-packages\\_pytest\\junitxml.py\", line 47, in <module>\n",
      "    illegal_xml_re = re.compile(unicode('[^%s]') % unicode('').join(_legal_xml_re))\n",
      "  File \"C:\\Anaconda3\\lib\\re.py\", line 233, in compile\n",
      "    return _compile(pattern, flags)\n",
      "  File \"C:\\Anaconda3\\lib\\re.py\", line 301, in _compile\n",
      "    p = sre_compile.compile(pattern, flags)\n",
      "  File \"C:\\Anaconda3\\lib\\sre_compile.py\", line 566, in compile\n",
      "    code = _code(p, flags)\n",
      "  File \"C:\\Anaconda3\\lib\\sre_compile.py\", line 548, in _code\n",
      "    _compile_info(code, p, flags)\n",
      "  File \"C:\\Anaconda3\\lib\\sre_compile.py\", line 536, in _compile_info\n",
      "    _compile_charset(charset, flags, code)\n",
      "  File \"C:\\Anaconda3\\lib\\sre_compile.py\", line 226, in _compile_charset\n",
      "    for op, av in _optimize_charset(charset, fixup, fixes):\n",
      "  File \"C:\\Anaconda3\\lib\\sre_compile.py\", line 279, in _optimize_charset\n",
      "    charmap[i] = 1\n",
      "KeyboardInterrupt\n"
     ]
    },
    {
     "ename": "ModuleNotFoundError",
     "evalue": "No module named 'tensorflow'",
     "output_type": "error",
     "traceback": [
      "\u001b[0;31m---------------------------------------------------------------------------\u001b[0m"
     ]
    }
   ],
   "source": [
    "import vix_util as util\n",
    "import DataPrepare\n",
    "import importlib\n",
    "from bokeh.charts import Bar, output_notebook, show\n",
    "import pdb\n",
    "import os,sys\n",
    "from keras.models import load_model\n",
    "importlib.reload(util)"
   ]
  },
  {
   "cell_type": "code",
   "execution_count": null,
   "metadata": {
    "collapsed": true
   },
   "outputs": [],
   "source": [
    "stock_data = util.prepare_stock_data(\"vixcurrent.csv\",300)\n",
    "dp = DataPrepare.DataPrepare(stock_data.ix[1:].copy())\n",
    "\n",
    "trainX, trainY, date = dp.create_dataset(dp.train)"
   ]
  },
  {
   "cell_type": "code",
   "execution_count": null,
   "metadata": {
    "collapsed": true
   },
   "outputs": [],
   "source": [
    "show_data = stock_data.copy()\n",
    "p = Bar(show_data, values=\"close\", title=\"stock example\", legend=\"\")"
   ]
  },
  {
   "cell_type": "code",
   "execution_count": null,
   "metadata": {
    "collapsed": true
   },
   "outputs": [],
   "source": [
    "nb_epoch = 1\n",
    "models_path = \"vix_models\"\n",
    "filepath = \"trainX_Y_model_\" + \"epoch_\" + str(nb_epoch)\n",
    "filepath = os.path.join(models_path,filepath + \".h5\")\n",
    "if os.path.exists(filepath):\n",
    "\tmodel = load_model(filepath)\n",
    "\tprint(\"load_model : \",filepath)\n",
    "else:\n",
    "\tbatch_size = 1\n",
    "\ttime_step = dp.time_step\n",
    "\tlabels_len = len(dp.labels)\n",
    "\tmodel = util.CreateModel(batch_size, time_step, labels_len)\n",
    "\tmodel.fit(trainX, trainY, batch_size=batch_size, nb_epoch=nb_epoch, verbose=1)"
   ]
  },
  {
   "cell_type": "code",
   "execution_count": null,
   "metadata": {
    "collapsed": true
   },
   "outputs": [],
   "source": [
    "testX, testY, date= dp.create_dataset(dp.test)"
   ]
  },
  {
   "cell_type": "code",
   "execution_count": null,
   "metadata": {
    "collapsed": true
   },
   "outputs": [],
   "source": [
    "predictY = model.predict(testX, batch_size=batch_size)"
   ]
  },
  {
   "cell_type": "code",
   "execution_count": null,
   "metadata": {
    "collapsed": true
   },
   "outputs": [],
   "source": [
    "model.evaluate(testX, testY, batch_size=batch_size)"
   ]
  }
 ],
 "metadata": {
  "kernelspec": {
   "display_name": "Python 3",
   "language": "python",
   "name": "python3"
  },
  "language_info": {
   "codemirror_mode": {
    "name": "ipython",
    "version": 3
   },
   "file_extension": ".py",
   "mimetype": "text/x-python",
   "name": "python",
   "nbconvert_exporter": "python",
   "pygments_lexer": "ipython3",
   "version": "3.6.0"
  }
 },
 "nbformat": 4,
 "nbformat_minor": 2
}
